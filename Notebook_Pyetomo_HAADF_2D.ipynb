{
 "cells": [
  {
   "cell_type": "markdown",
   "metadata": {},
   "source": [
    "# HAADF-STEM tomography of Er-doped porous Si\n",
    "### Example of 2D reconstruction.\n",
    "### Note: the tilt axis should be horizontal."
   ]
  },
  {
   "cell_type": "markdown",
   "metadata": {},
   "source": [
    "## Import Python modules"
   ]
  },
  {
   "cell_type": "code",
   "execution_count": null,
   "metadata": {},
   "outputs": [],
   "source": [
    "%matplotlib inline\n",
    "\n",
    "import os\n",
    "\n",
    "import numpy as np\n",
    "import matplotlib.pyplot as plt\n",
    "from skimage.io import imread\n",
    "from skimage.transform import rotate, radon, iradon, iradon_sart\n",
    "from skimage.external.tifffile import imsave\n",
    "\n",
    "from modopt.opt.proximity import SparseThreshold\n",
    "from modopt.opt.cost import costObj\n",
    "\n",
    "from pyetomo import fourier, gradient, linear, reconstruct, reweight, utils"
   ]
  },
  {
   "cell_type": "markdown",
   "metadata": {},
   "source": [
    "# Import the experimental dataset"
   ]
  },
  {
   "cell_type": "code",
   "execution_count": null,
   "metadata": {},
   "outputs": [],
   "source": [
    "Needle = imread('Data/Er_doped_SiPor.tif')\n",
    "Sinogram_2D = Needle[:,624-300:624+300,40]\n",
    "plt.imshow(Sinogram_2D,cmap='gray')"
   ]
  },
  {
   "cell_type": "code",
   "execution_count": null,
   "metadata": {},
   "outputs": [],
   "source": [
    "angular_step= 1. # angular step, in degrees\n",
    "angular_range_min = 0. # minimum tilt angle, in degrees\n",
    "angular_range_max = 180. # maximum tilt angle, in degrees (excluded)\n",
    "theta_full =  np.arange(angular_range_min, angular_range_max, angular_step) # projection angles, in degrees\n",
    "print(theta_full.shape)"
   ]
  },
  {
   "cell_type": "markdown",
   "metadata": {},
   "source": [
    "# Reconstruction by filtered backprojection (FBP)"
   ]
  },
  {
   "cell_type": "code",
   "execution_count": null,
   "metadata": {},
   "outputs": [],
   "source": [
    "fbp = iradon(Sinogram_2D[::1].T, theta=theta_full, circle=True, filter='shepp-logan')\n",
    "fbp_5 = iradon(Sinogram_2D[::5].T, theta=theta_full[::5], circle=True, filter='shepp-logan')"
   ]
  },
  {
   "cell_type": "code",
   "execution_count": null,
   "metadata": {},
   "outputs": [],
   "source": [
    "fig, (ax0, ax1, ax2) = plt.subplots(1, 3, figsize = (15,5))\n",
    "\n",
    "ax0.imshow(Sinogram_2D.T, cmap=plt.cm.gray, extent=(angular_range_min, angular_range_max, angular_step, Sinogram_2D.T.shape[0]), aspect='auto') \n",
    "ax0.axis('on')\n",
    "ax0.set_title('Sinogram',{'fontsize': 20})\n",
    "\n",
    "ax1.imshow(fbp,cmap=plt.cm.gray)\n",
    "ax1.axis('off')\n",
    "ax1.set_title('FBP, tilt increment: 1°',{'fontsize': 20})\n",
    "\n",
    "ax2.imshow(fbp_5,cmap=plt.cm.gray)\n",
    "ax2.axis('off')\n",
    "ax2.set_title('FBP, tilt increment: 5°',{'fontsize': 20})"
   ]
  },
  {
   "cell_type": "code",
   "execution_count": null,
   "metadata": {},
   "outputs": [],
   "source": [
    "angular_incr=5\n",
    "\n",
    "theta = theta_full [::angular_incr]\n",
    "sinogram = Sinogram_2D[::angular_incr]\n",
    "\n",
    "fbp_reduced = iradon(sinogram.T, theta=theta_full[::angular_incr], circle=True, filter='shepp-logan')\n",
    "\n",
    "# Step 1: Define NUFFT sampling:\n",
    "\n",
    "kspace_lib = utils.generate_kspace_etomo_2D(sinogram)\n",
    "samples_lib = np.pi*2*utils.generate_locations_etomo_2D(sinogram.shape[1],theta)\n",
    "fourier_op = fourier.NUFFT2(samples_lib,[sinogram.shape[1],sinogram.shape[1]])\n",
    " \n",
    "# Step 2: Define the gradient calculation: \n",
    "\n",
    "gradient_op = gradient.GradAnalysis(data=kspace_lib, fourier_op=fourier_op)\n",
    "\n",
    "# Step 3: Define the sparsity operator linear_op, the threshold proximity operation prox_op and the cost function cost_op:\n",
    "\n",
    "\n",
    "# Bior4.4 undecimated:\n",
    "linear_op_bior4_undecimated = linear.pyWavelet('bior4.4', nb_scale = 2, undecimated = True)\n",
    "prox_op_bior4_undecimated = SparseThreshold(linear_op_bior4_undecimated, 1, thresh_type=\"soft\")\n",
    "cost_op_bior4_undecimated = costObj((gradient_op,prox_op_bior4_undecimated), verbose=False)\n",
    "\n",
    "# Bior4.4 decimated:\n",
    "linear_op_bior4_decimated = linear.pyWavelet('bior4.4', nb_scale = 2, undecimated = False)\n",
    "prox_op_bior4_decimated = SparseThreshold(linear_op_bior4_decimated, 1, thresh_type=\"soft\")\n",
    "cost_op_bior4_decimated = costObj((gradient_op,prox_op_bior4_decimated), verbose=False)\n",
    "\n",
    "# Haar:\n",
    "linear_op_haar = linear.pyWavelet('haar', nb_scale=3)\n",
    "prox_op_haar = SparseThreshold(linear_op_haar, 1, thresh_type=\"soft\")\n",
    "cost_op_haar = costObj((gradient_op,prox_op_haar), verbose=False)\n",
    "\n",
    "#TV:\n",
    "linear_op_tv = linear.HOTV([sinogram.shape[1],sinogram.shape[1]], order=1)\n",
    "prox_op_tv = SparseThreshold(linear_op_tv, 1, thresh_type=\"soft\")\n",
    "cost_op_tv = costObj((gradient_op,prox_op_tv), verbose=False)\n",
    "\n",
    "#HOTV, order = 3:\n",
    "linear_op_hotv3 = linear.HOTV([sinogram.shape[1],sinogram.shape[1]], order=3)\n",
    "prox_op_hotv3 = SparseThreshold(linear_op_hotv3, 1, thresh_type=\"soft\")\n",
    "cost_op_hotv3 = costObj((gradient_op,prox_op_hotv3), verbose=False)\n",
    "\n",
    "\n",
    "# Step 4: Run the Condat-Vu sparse reconstruction:\n",
    "\n",
    "rec_ = []\n",
    "\n",
    "regul_param = [4, 4, 10, 10, 10]\n",
    "sparse_op = ['TV', 'HOTV_3', 'Haar', 'Bior4.4_Undecimated', 'Bior4.4_Decimated']\n",
    "linear_op = [linear_op_tv, linear_op_hotv3, linear_op_haar, linear_op_bior4_undecimated, linear_op_bior4_decimated]\n",
    "prox_op = [prox_op_tv, prox_op_hotv3, prox_op_haar, prox_op_bior4_undecimated, prox_op_bior4_decimated]\n",
    "cost_op = [cost_op_tv, cost_op_hotv3, cost_op_haar, cost_op_bior4_undecimated, cost_op_bior4_decimated]\n",
    "\n",
    "\"\"\"\n",
    "# For selecting the regularization parameter:\n",
    "\n",
    "mu=[100,200,300,400,500]\n",
    "\n",
    "for k,m in enumerate(mu):\n",
    "    reconstruction, wt_coeff, costs, metrics = reconstruct.sparse_rec_condatvu(\n",
    "        gradient_op,\n",
    "        linear_op[0],\n",
    "        prox_op[0],\n",
    "        cost_op[0],\n",
    "        mu=m,\n",
    "        max_nb_of_iter=300,\n",
    "        nb_of_reweights=2,\n",
    "        add_positivity=True,\n",
    "        verbose=0)\n",
    "    rec_.append(np.abs(reconstruction))\n",
    "\"\"\" \n",
    "\n",
    "\n",
    "for k,m in enumerate(sparse_op):\n",
    "    reconstruction, wt_coeff, costs, metrics = reconstruct.sparse_rec_condatvu(\n",
    "        gradient_op,\n",
    "        linear_op[k],\n",
    "        prox_op[k],\n",
    "        cost_op[k],\n",
    "        mu=regul_param[k],\n",
    "        max_nb_of_iter=100,\n",
    "        nb_of_reweights=1,\n",
    "        add_positivity=True,\n",
    "        verbose=0)\n",
    "    rec_.append(np.abs(reconstruction))\n",
    "    \n",
    "## For saving the 2D reconstructions: \n",
    "#for k,m in enumerate(sparse_op):\n",
    "#    imsave('2D_HAADF_Rec_' + str(sparse_op[k]) + '_mu_'+ str(regul_param[k])+ '.tif', np.asarray(np.abs(rec_[k])).astype('float32')) "
   ]
  },
  {
   "cell_type": "code",
   "execution_count": null,
   "metadata": {},
   "outputs": [],
   "source": [
    "# Plot of the reconstructions:\n",
    "\n",
    "fig, ((ax0, ax1, ax2), (ax3, ax4, ax5)) = plt.subplots(2, 3, figsize = (15,10))\n",
    "\n",
    "ax0.imshow(rec_[0],cmap=plt.cm.gray)\n",
    "ax0.axis('off')\n",
    "ax0.set_title(str(sparse_op[0]),{'fontsize': 20})\n",
    "\n",
    "ax1.imshow(rec_[1],cmap=plt.cm.gray)\n",
    "ax1.axis('off')\n",
    "ax1.set_title(str(sparse_op[1]),{'fontsize': 20})\n",
    "\n",
    "ax2.imshow(rec_[2],cmap=plt.cm.gray)\n",
    "ax2.axis('off')\n",
    "ax2.set_title(str(sparse_op[2]),{'fontsize': 20})\n",
    "\n",
    "ax3.imshow(rec_[3],cmap=plt.cm.gray)\n",
    "ax3.axis('off')\n",
    "ax3.set_title(str(sparse_op[3]),{'fontsize': 20})\n",
    "\n",
    "ax4.imshow(rec_[4],cmap=plt.cm.gray)\n",
    "ax4.axis('off')\n",
    "ax4.set_title(str(sparse_op[4]),{'fontsize': 20})\n",
    "\n",
    "ax5.imshow(rotate(fbp_reduced, -90),cmap=plt.cm.gray)\n",
    "ax5.axis('off')\n",
    "ax5.set_title('FBP',{'fontsize': 20})"
   ]
  },
  {
   "cell_type": "code",
   "execution_count": null,
   "metadata": {},
   "outputs": [],
   "source": []
  }
 ],
 "metadata": {
  "kernelspec": {
   "display_name": "Python 3",
   "language": "python",
   "name": "python3"
  },
  "language_info": {
   "codemirror_mode": {
    "name": "ipython",
    "version": 3
   },
   "file_extension": ".py",
   "mimetype": "text/x-python",
   "name": "python",
   "nbconvert_exporter": "python",
   "pygments_lexer": "ipython3",
   "version": "3.7.4"
  }
 },
 "nbformat": 4,
 "nbformat_minor": 2
}
